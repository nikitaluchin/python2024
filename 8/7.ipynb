{
 "cells": [
  {
   "cell_type": "code",
   "execution_count": 48,
   "metadata": {},
   "outputs": [],
   "source": [
    "from xml.dom import minidom\n",
    "from geopy.geocoders import Nominatim\n",
    "\n",
    "geolocator = Nominatim(user_agent=\"xstratumm\")"
   ]
  },
  {
   "cell_type": "code",
   "execution_count": 49,
   "metadata": {},
   "outputs": [],
   "source": [
    "f = open(\"7.osm\", encoding=\"utf8\")\n",
    "doc = minidom.parseString(f.read())\n",
    "root = doc.documentElement\n",
    "l = root.getElementsByTagName('tag')"
   ]
  },
  {
   "cell_type": "code",
   "execution_count": 50,
   "metadata": {},
   "outputs": [
    {
     "data": {
      "text/plain": [
       "[<DOM Element: tag at 0x13630834050>,\n",
       " <DOM Element: tag at 0x1363277adf0>,\n",
       " <DOM Element: tag at 0x13632884eb0>,\n",
       " <DOM Element: tag at 0x136329e5f90>,\n",
       " <DOM Element: tag at 0x13632a9b390>,\n",
       " <DOM Element: tag at 0x13632b83d90>,\n",
       " <DOM Element: tag at 0x13632cafc50>,\n",
       " <DOM Element: tag at 0x136339ab930>,\n",
       " <DOM Element: tag at 0x136339ece10>,\n",
       " <DOM Element: tag at 0x136340958b0>,\n",
       " <DOM Element: tag at 0x1363465cff0>,\n",
       " <DOM Element: tag at 0x13635138690>,\n",
       " <DOM Element: tag at 0x136382aed50>,\n",
       " <DOM Element: tag at 0x13638767cf0>,\n",
       " <DOM Element: tag at 0x1363a5f8a50>,\n",
       " <DOM Element: tag at 0x1363a64db30>,\n",
       " <DOM Element: tag at 0x1363eb4ef30>,\n",
       " <DOM Element: tag at 0x1363ec36f30>,\n",
       " <DOM Element: tag at 0x1363ecd77f0>,\n",
       " <DOM Element: tag at 0x1363f787b10>,\n",
       " <DOM Element: tag at 0x1363fb600f0>,\n",
       " <DOM Element: tag at 0x1364020d450>,\n",
       " <DOM Element: tag at 0x136426cd810>,\n",
       " <DOM Element: tag at 0x13645de2210>]"
      ]
     },
     "execution_count": 50,
     "metadata": {},
     "output_type": "execute_result"
    }
   ],
   "source": [
    "l = list(filter(lambda el: el.getAttribute('k') in (\"amenity\", \"building\") and \"school\" in el.getAttribute('v'), l))\n",
    "l"
   ]
  },
  {
   "cell_type": "code",
   "execution_count": 51,
   "metadata": {},
   "outputs": [
    {
     "name": "stdout",
     "output_type": "stream",
     "text": [
      "{'music_school', 'school', 'language_school', 'driving_school'}\n"
     ]
    },
    {
     "data": {
      "text/plain": [
       "[('school',\n",
       "  'Детская школа исскуств имени П.\\xa0А.\\xa0Серебрякова, 68, улица Марата, Владимирский округ, Санкт-Петербург, Северо-Западный федеральный округ, 191126, Россия'),\n",
       " ('driving_school',\n",
       "  '5/8, улица Егорова, округ Измайловское, Санкт-Петербург, Северо-Западный федеральный округ, 198005, Россия'),\n",
       " ('school',\n",
       "  '35 литА, Загородный проспект, округ Семёновский, Санкт-Петербург, Северо-Западный федеральный округ, 191180, Россия'),\n",
       " ('language_school',\n",
       "  '27, Загородный проспект, Владимирский округ, Санкт-Петербург, Северо-Западный федеральный округ, 191180, Россия'),\n",
       " ('language_school',\n",
       "  '19/21 литБ, улица Достоевского, Владимирский округ, Санкт-Петербург, Северо-Западный федеральный округ, 191126, Россия'),\n",
       " ('driving_school',\n",
       "  'Болид, набережная реки Фонтанки, округ Семёновский, Санкт-Петербург, Северо-Западный федеральный округ, 190031, Россия'),\n",
       " ('language_school',\n",
       "  '25/1 литБ, Московский проспект, округ Измайловское, Санкт-Петербург, Северо-Западный федеральный округ, 198005, Россия'),\n",
       " ('language_school', '5'),\n",
       " ('language_school', '3'),\n",
       " ('music_school',\n",
       "  '73, Гороховая улица, округ Семёновский, Санкт-Петербург, Северо-Западный федеральный округ, 191180, Россия'),\n",
       " ('music_school',\n",
       "  '51/32, улица Марата, Владимирский округ, Санкт-Петербург, Северо-Западный федеральный округ, 191102, Россия'),\n",
       " ('school',\n",
       "  '90 к8, набережная реки Фонтанки, округ Семёновский, Санкт-Петербург, Северо-Западный федеральный округ, 191180, Россия'),\n",
       " ('language_school',\n",
       "  'Hop & Scotch, набережная Обводного канала, Волково, округ Волковское, Санкт-Петербург, Северо-Западный федеральный округ, 191119, Россия'),\n",
       " ('driving_school',\n",
       "  'Мустанг, Введенский канал, округ Семёновский, Санкт-Петербург, Северо-Западный федеральный округ, 190013, Россия'),\n",
       " ('school', 'улица Константина Заслонова, 191119, 6'),\n",
       " ('school', 'улица Константина Заслонова, 16, RU, Санкт-Петербург'),\n",
       " ('school', 'No address in OSM file'),\n",
       " ('school', 'No address in OSM file'),\n",
       " ('school', 'No address in OSM file'),\n",
       " ('school', 'No address in OSM file'),\n",
       " ('school', 'улица Константина Заслонова, 6'),\n",
       " ('school', 'No address in OSM file'),\n",
       " ('school', 'Социалистическая улица, 7'),\n",
       " ('school', 'No address in OSM file')]"
      ]
     },
     "execution_count": 51,
     "metadata": {},
     "output_type": "execute_result"
    }
   ],
   "source": [
    "schools = []\n",
    "school_types = set()\n",
    "\n",
    "for tag in l:\n",
    "    name = tag.getAttribute('v')\n",
    "    siblings = tag.parentNode.childNodes\n",
    "    address = []\n",
    "    for sibling in siblings:\n",
    "        # print(sibling.nodeName)\n",
    "        # if sibling.nodeName == \"tag\":\n",
    "            # print(sibling.getAttribute('k'))\n",
    "        if sibling.nodeName == \"tag\" and \"addr\" in sibling.getAttribute('k'):\n",
    "                address.append(sibling.getAttribute('v'))\n",
    "    if not address:\n",
    "        address = \"No address in OSM file\"\n",
    "        if tag.parentNode.nodeName == \"node\":\n",
    "            parent = tag.parentNode\n",
    "            coords = (parent.getAttribute('lat'), parent.getAttribute('lon'))\n",
    "            location = geolocator.reverse(coords, exactly_one=True)\n",
    "            address = location.address\n",
    "    else:\n",
    "        address = \", \".join(address[::-1])\n",
    "    schools.append((name, address))\n",
    "    if name not in school_types:\n",
    "        school_types.add(name)\n",
    "print(school_types)\n",
    "schools"
   ]
  },
  {
   "cell_type": "code",
   "execution_count": 52,
   "metadata": {},
   "outputs": [
    {
     "data": {
      "text/plain": [
       "[('language_school',\n",
       "  '19/21 литБ, улица Достоевского, Владимирский округ, Санкт-Петербург, Северо-Западный федеральный округ, 191126, Россия'),\n",
       " ('language_school',\n",
       "  '25/1 литБ, Московский проспект, округ Измайловское, Санкт-Петербург, Северо-Западный федеральный округ, 198005, Россия'),\n",
       " ('language_school',\n",
       "  '27, Загородный проспект, Владимирский округ, Санкт-Петербург, Северо-Западный федеральный округ, 191180, Россия'),\n",
       " ('language_school', '3'),\n",
       " ('school',\n",
       "  '35 литА, Загородный проспект, округ Семёновский, Санкт-Петербург, Северо-Западный федеральный округ, 191180, Россия'),\n",
       " ('language_school', '5'),\n",
       " ('driving_school',\n",
       "  '5/8, улица Егорова, округ Измайловское, Санкт-Петербург, Северо-Западный федеральный округ, 198005, Россия'),\n",
       " ('music_school',\n",
       "  '51/32, улица Марата, Владимирский округ, Санкт-Петербург, Северо-Западный федеральный округ, 191102, Россия'),\n",
       " ('music_school',\n",
       "  '73, Гороховая улица, округ Семёновский, Санкт-Петербург, Северо-Западный федеральный округ, 191180, Россия'),\n",
       " ('school',\n",
       "  '90 к8, набережная реки Фонтанки, округ Семёновский, Санкт-Петербург, Северо-Западный федеральный округ, 191180, Россия'),\n",
       " ('language_school',\n",
       "  'Hop & Scotch, набережная Обводного канала, Волково, округ Волковское, Санкт-Петербург, Северо-Западный федеральный округ, 191119, Россия'),\n",
       " ('school', 'No address in OSM file'),\n",
       " ('school', 'No address in OSM file'),\n",
       " ('school', 'No address in OSM file'),\n",
       " ('school', 'No address in OSM file'),\n",
       " ('school', 'No address in OSM file'),\n",
       " ('school', 'No address in OSM file'),\n",
       " ('driving_school',\n",
       "  'Болид, набережная реки Фонтанки, округ Семёновский, Санкт-Петербург, Северо-Западный федеральный округ, 190031, Россия'),\n",
       " ('school',\n",
       "  'Детская школа исскуств имени П.\\xa0А.\\xa0Серебрякова, 68, улица Марата, Владимирский округ, Санкт-Петербург, Северо-Западный федеральный округ, 191126, Россия'),\n",
       " ('driving_school',\n",
       "  'Мустанг, Введенский канал, округ Семёновский, Санкт-Петербург, Северо-Западный федеральный округ, 190013, Россия'),\n",
       " ('school', 'Социалистическая улица, 7'),\n",
       " ('school', 'улица Константина Заслонова, 16, RU, Санкт-Петербург'),\n",
       " ('school', 'улица Константина Заслонова, 191119, 6'),\n",
       " ('school', 'улица Константина Заслонова, 6')]"
      ]
     },
     "execution_count": 52,
     "metadata": {},
     "output_type": "execute_result"
    }
   ],
   "source": [
    "schools.sort(key=lambda school: school[1])\n",
    "schools"
   ]
  }
 ],
 "metadata": {
  "kernelspec": {
   "display_name": "Python 3",
   "language": "python",
   "name": "python3"
  },
  "language_info": {
   "codemirror_mode": {
    "name": "ipython",
    "version": 3
   },
   "file_extension": ".py",
   "mimetype": "text/x-python",
   "name": "python",
   "nbconvert_exporter": "python",
   "pygments_lexer": "ipython3",
   "version": "3.11.4"
  }
 },
 "nbformat": 4,
 "nbformat_minor": 2
}
