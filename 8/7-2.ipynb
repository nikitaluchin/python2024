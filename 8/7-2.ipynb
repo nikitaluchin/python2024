{
 "cells": [
  {
   "cell_type": "code",
   "execution_count": 35,
   "metadata": {},
   "outputs": [],
   "source": [
    "from xml.dom import minidom\n",
    "from geopy.geocoders import Nominatim\n",
    "\n",
    "geolocator = Nominatim(user_agent=\"xstratumm\")"
   ]
  },
  {
   "cell_type": "code",
   "execution_count": 21,
   "metadata": {},
   "outputs": [],
   "source": [
    "f = open(\"7 -2.osm\", encoding=\"utf8\")\n",
    "doc = minidom.parseString(f.read())\n",
    "root = doc.documentElement\n",
    "l = root.getElementsByTagName('tag')"
   ]
  },
  {
   "cell_type": "code",
   "execution_count": 22,
   "metadata": {},
   "outputs": [
    {
     "data": {
      "text/plain": [
       "[<DOM Element: tag at 0x1361da35590>,\n",
       " <DOM Element: tag at 0x13621e08370>,\n",
       " <DOM Element: tag at 0x13622804730>,\n",
       " <DOM Element: tag at 0x136229e77f0>,\n",
       " <DOM Element: tag at 0x1362ae40410>,\n",
       " <DOM Element: tag at 0x1362ae42ad0>]"
      ]
     },
     "execution_count": 22,
     "metadata": {},
     "output_type": "execute_result"
    }
   ],
   "source": [
    "l = list(filter(lambda el: el.getAttribute('k') in (\"amenity\", \"building\") and \"school\" in el.getAttribute('v'), l))\n",
    "l"
   ]
  },
  {
   "cell_type": "code",
   "execution_count": 43,
   "metadata": {},
   "outputs": [
    {
     "name": "stdout",
     "output_type": "stream",
     "text": [
      "{'school', 'music_school', 'language_school', 'driving_school'}\n"
     ]
    },
    {
     "data": {
      "text/plain": [
       "[('language_school',\n",
       "  'BKC International House, Газетный переулок, 18, 57, Тверской район, Москва, Центральный федеральный округ, 125009, Россия'),\n",
       " ('music_school',\n",
       "  '8/10 с1, Брюсов переулок, 45, Тверской район, Москва, Центральный федеральный округ, 125009, Россия'),\n",
       " ('driving_school',\n",
       "  'Престиж Авто, Газетный переулок, 18, 57, Пресненский район, Москва, Центральный федеральный округ, 125009, Россия'),\n",
       " ('language_school',\n",
       "  'Бизнес-центр \"Cabinet Lounge\", 2, Малый Черкасский переулок, 2, Китай-город, Тверской район, Москва, Центральный федеральный округ, 109012, Россия'),\n",
       " ('school', 'No address in OSM file'),\n",
       " ('school',\n",
       "  'Камергерский переулок, улица Большая Дмитровка, 6/5 с7, 5/6 с7, RU')]"
      ]
     },
     "execution_count": 43,
     "metadata": {},
     "output_type": "execute_result"
    }
   ],
   "source": [
    "schools = []\n",
    "school_types = set()\n",
    "\n",
    "for tag in l:\n",
    "    name = tag.getAttribute('v')\n",
    "    siblings = tag.parentNode.childNodes\n",
    "    address = []\n",
    "    for sibling in siblings:\n",
    "        # print(sibling.nodeName)\n",
    "        # if sibling.nodeName == \"tag\":\n",
    "            # print(sibling.getAttribute('k'))\n",
    "        if sibling.nodeName == \"tag\" and \"addr\" in sibling.getAttribute('k'):\n",
    "                address.append(sibling.getAttribute('v'))\n",
    "    if not address:\n",
    "        address = \"No address in OSM file\"\n",
    "        if tag.parentNode.nodeName == \"node\":\n",
    "            parent = tag.parentNode\n",
    "            coords = (parent.getAttribute('lat'), parent.getAttribute('lon'))\n",
    "            location = geolocator.reverse(coords, exactly_one=True)\n",
    "            address = location.address\n",
    "    else:\n",
    "        address = \", \".join(address[::-1])\n",
    "    schools.append((name, address))\n",
    "    if name not in school_types:\n",
    "        school_types.add(name)\n",
    "print(school_types)\n",
    "schools"
   ]
  },
  {
   "cell_type": "code",
   "execution_count": 47,
   "metadata": {},
   "outputs": [
    {
     "data": {
      "text/plain": [
       "[('music_school',\n",
       "  '8/10 с1, Брюсов переулок, 45, Тверской район, Москва, Центральный федеральный округ, 125009, Россия'),\n",
       " ('language_school',\n",
       "  'BKC International House, Газетный переулок, 18, 57, Тверской район, Москва, Центральный федеральный округ, 125009, Россия'),\n",
       " ('school', 'No address in OSM file'),\n",
       " ('language_school',\n",
       "  'Бизнес-центр \"Cabinet Lounge\", 2, Малый Черкасский переулок, 2, Китай-город, Тверской район, Москва, Центральный федеральный округ, 109012, Россия'),\n",
       " ('school',\n",
       "  'Камергерский переулок, улица Большая Дмитровка, 6/5 с7, 5/6 с7, RU'),\n",
       " ('driving_school',\n",
       "  'Престиж Авто, Газетный переулок, 18, 57, Пресненский район, Москва, Центральный федеральный округ, 125009, Россия')]"
      ]
     },
     "execution_count": 47,
     "metadata": {},
     "output_type": "execute_result"
    }
   ],
   "source": [
    "schools.sort(key=lambda school: school[1])\n",
    "schools"
   ]
  }
 ],
 "metadata": {
  "kernelspec": {
   "display_name": "Python 3",
   "language": "python",
   "name": "python3"
  },
  "language_info": {
   "codemirror_mode": {
    "name": "ipython",
    "version": 3
   },
   "file_extension": ".py",
   "mimetype": "text/x-python",
   "name": "python",
   "nbconvert_exporter": "python",
   "pygments_lexer": "ipython3",
   "version": "3.11.4"
  }
 },
 "nbformat": 4,
 "nbformat_minor": 2
}
